{
  "nbformat": 4,
  "nbformat_minor": 0,
  "metadata": {
    "colab": {
      "provenance": [],
      "authorship_tag": "ABX9TyNSiWUPOe3TuHXYRkE7cR+B",
      "include_colab_link": true
    },
    "kernelspec": {
      "name": "python3",
      "display_name": "Python 3"
    },
    "language_info": {
      "name": "python"
    }
  },
  "cells": [
    {
      "cell_type": "markdown",
      "metadata": {
        "id": "view-in-github",
        "colab_type": "text"
      },
      "source": [
        "<a href=\"https://colab.research.google.com/github/lucasvguerra/Trabalho-24-08/blob/main/Exerc%C3%ADcio_Sistemas_Lineares_Lucas_Guerra_e_Henrique_Lanna.ipynb\" target=\"_parent\"><img src=\"https://colab.research.google.com/assets/colab-badge.svg\" alt=\"Open In Colab\"/></a>"
      ]
    },
    {
      "cell_type": "code",
      "execution_count": 1,
      "metadata": {
        "colab": {
          "base_uri": "https://localhost:8080/"
        },
        "id": "UKoE5kaJEUOB",
        "outputId": "44db9352-7a9e-4678-9887-c31550172fb5"
      },
      "outputs": [
        {
          "output_type": "stream",
          "name": "stdout",
          "text": [
            "|  -6.00     2.00     1.00     1.00   |   0.00   |\n",
            "|   0.00    -3.00     1.50     0.50   |   0.00   |\n",
            "|   0.00     0.00    -11.00    7.00   | -254.00  |\n",
            "|   0.00     0.00     0.00    -1.29   |  -53.88  |\n",
            "Det: -1.29\n",
            "Info: 0\n",
            "Vetor x\n",
            "| 25.80  |\n",
            "| 31.75  |\n",
            "| 49.61  |\n",
            "| 41.67  |\n"
          ]
        }
      ],
      "source": [
        "#Questão 1:Implementar em Python o método de Eliminação de Gauss sem pivotação parcial.\n",
        "\n",
        "def eliminacaoGaussPivotamento(n,A,b):\n",
        "  det = 1\n",
        "  info = 0\n",
        "  for j in range(0,n-1):\n",
        "    p = j\n",
        "    Amax = abs(A[j][j])  \n",
        "\n",
        "    if abs(A[j][j]) != 0:\n",
        "      r = 1/A[j][j]\n",
        "      for i in range(j+1,n):\n",
        "        mult = A[i][j]*r\n",
        "        A[i][j] = 0\n",
        "        for k in range(j+1,n):\n",
        "          A[i][k] = A[i][k]-mult*A[j][k]\n",
        "        b[i] = b[i]-mult*b[j]\n",
        "    else:\n",
        "      if info == 0:\n",
        "        info = j\n",
        "  det = det*A[n-1][n-1]\n",
        "  if info == 0 and abs(A[n-1][n-1]) == 0:\n",
        "    info = n\n",
        "  return A, b, det, info\n",
        "\n",
        "def substituicoesRetroativas(n,U,d):\n",
        "  x = [0]*n\n",
        "  x[n-1] = d[n-1]/U[n-1][n-1]\n",
        "  for i in range(n-1,-1,-1):\n",
        "    soma = 0\n",
        "    for j in range(i+1,n):\n",
        "      soma += U[i][j]*x[j]\n",
        "    x[i] = (d[i]-soma)/U[i][i]\n",
        "  return x\n",
        "\n",
        "A = [[-6,2,1,1],[3,-4,1,0],[3,2,-13,6],[1,0,2,-3]]\n",
        "b = [0,0,-254,0]\n",
        "n = len(b)\n",
        "\n",
        "Ar,br, det,info = eliminacaoGaussPivotamento(n,A,b)\n",
        "\n",
        "def imprimirMatricial(Ar,br):\n",
        "  for i in range(len(Ar)):\n",
        "    print('|', end=' ')\n",
        "    for j in range(len(Ar[i])):\n",
        "      v = f'{Ar[i][j]:.2f}'\n",
        "      print(f'{v:^8}', end=' ')\n",
        "    print('|', end = ' ')\n",
        "    b = f'{br[i]:.2f}'\n",
        "    print(f'{b:^8}', end=' ')\n",
        "    print('|')\n",
        "\n",
        "def imprimirVetorTransposto(x):\n",
        "  for i in range(len(x)):\n",
        "    print('|', end=' ')\n",
        "    b = f'{x[i]:.2f}'\n",
        "    print(f'{b:^6}', end=' ')\n",
        "    print('|')\n",
        "\n",
        "imprimirMatricial(Ar,br)\n",
        "print(f'Det: {det:.2f}')\n",
        "print('Info:',info)\n",
        "\n",
        "x = substituicoesRetroativas(n,Ar,br)\n",
        "\n",
        "print('Vetor x')\n",
        "imprimirVetorTransposto(x)"
      ]
    },
    {
      "cell_type": "code",
      "source": [
        "#Questão 2: Implementar em Python o método de Decomposição LU sem pivotação parcial.\n",
        "import numpy as np \n",
        "import copy as cp\n",
        "def decomposicaoLU(m,n,A):\n",
        "  pivot = [0]*m\n",
        "  for i in range(m):\n",
        "    pivot[i] = i\n",
        "  pdU = 1\n",
        "  info = 0\n",
        "  for j in range(min(m,n)):\n",
        "    p = j \n",
        "    Amax = abs(A[j][j])\n",
        "    if abs(A[j][j]) != 0: \n",
        "      r = 1/A[j][j]\n",
        "      for i in range(j+1,m):\n",
        "        mult = A[i][j]*r\n",
        "        A[i][j] = mult\n",
        "        for k in range(j+1,n):\n",
        "          A[i][k] = A[i][k]-mult*A[j][k]\n",
        "    else:\n",
        "      if info == 0:\n",
        "        info = j\n",
        "   \n",
        "  return A, pivot, pdU, info\n",
        "\n",
        "def substituicoesSucessivasPivotal(n,L,b,pivot):\n",
        "  \n",
        "  k = pivot[0]\n",
        "  y = [0]*n\n",
        "  y[0] = b[k]\n",
        "  for i in range(1,n):\n",
        "    soma = 0\n",
        "    for j in range(i):\n",
        "      soma += L[i][j]*y[j]\n",
        "    k = pivot[i]\n",
        "    y[i] = b[k]-soma\n",
        "\n",
        "  return y\n",
        "\n",
        "def substituicoesSucessivas(n,L,c):\n",
        "  x=[0]*n\n",
        "  x[0] = c[0]/L[0][0]\n",
        "  for i in range(1,n):\n",
        "    soma = 0\n",
        "    for j in range(0,i):\n",
        "      soma += L[i][j]*x[j] \n",
        "    x[i] = (c[i]-soma)/L[i][i]\n",
        "  return x\n",
        "\n",
        "def substituicoesRetroativas(n,U,d):\n",
        "  x = [0]*n\n",
        "  x[n-1] = d[n-1]/U[n-1][n-1]\n",
        "  for i in range(n-1,-1,-1):\n",
        "    soma = 0\n",
        "    for j in range(i+1,n):\n",
        "      soma += U[i][j]*x[j]\n",
        "    x[i] = (d[i]-soma)/U[i][i]\n",
        "  return x\n",
        "\n",
        "def criarLU(A, m,n):\n",
        "  L = cp.deepcopy(A)\n",
        "  U = cp.deepcopy(A)\n",
        "  return L,U\n",
        "\n",
        "\n",
        "A = [[-6,2,1,1],[3,-4,1,0],[3,2,-13,6],[1,0,2,-3]]\n",
        "b = [0,0,-254,0]\n",
        "\n",
        "m = len(A) \n",
        "n = len(A[0]) \n",
        "\n",
        "Ar, pivot,pdU, info = decomposicaoLU(m,n,A)\n",
        "\n",
        "print(Ar)\n",
        "\n",
        "L,U = criarLU(Ar,m,n)\n",
        "print(L)\n",
        "print(U)\n",
        "\n",
        "y = substituicoesSucessivasPivotal(n,L,b,pivot)\n",
        "print(y)\n",
        "\n",
        "x = substituicoesRetroativas(n,U,y)\n",
        "print(x)\n"
      ],
      "metadata": {
        "colab": {
          "base_uri": "https://localhost:8080/"
        },
        "id": "XoM5pXxwVDFj",
        "outputId": "40b904a1-cba1-4d40-9931-ae3057517b95"
      },
      "execution_count": 4,
      "outputs": [
        {
          "output_type": "stream",
          "name": "stdout",
          "text": [
            "[[-6, 2, 1, 1], [-0.5, -3.0, 1.5, 0.5], [-0.5, -1.0, -11.0, 7.0], [-0.16666666666666666, -0.1111111111111111, -0.2121212121212121, -1.2929292929292935]]\n",
            "[[-6, 2, 1, 1], [-0.5, -3.0, 1.5, 0.5], [-0.5, -1.0, -11.0, 7.0], [-0.16666666666666666, -0.1111111111111111, -0.2121212121212121, -1.2929292929292935]]\n",
            "[[-6, 2, 1, 1], [-0.5, -3.0, 1.5, 0.5], [-0.5, -1.0, -11.0, 7.0], [-0.16666666666666666, -0.1111111111111111, -0.2121212121212121, -1.2929292929292935]]\n",
            "[0, 0.0, -254.0, -53.878787878787875]\n",
            "[25.796874999999986, 31.749999999999986, 49.60937499999998, 41.67187499999998]\n"
          ]
        }
      ]
    }
  ]
}